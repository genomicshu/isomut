{
 "cells": [
  {
   "cell_type": "markdown",
   "metadata": {},
   "source": [
    "### Test run for IsoMut\n",
    "---\n",
    "\n",
    "\n",
    "This is just a test run for the C application. It does not incorporate the whole pipeline. It is just here to show the signature of the application, for testing purposes."
   ]
  },
  {
   "cell_type": "code",
   "execution_count": 1,
   "metadata": {
    "collapsed": true
   },
   "outputs": [],
   "source": [
    "import os\n",
    "os.chdir('../')\n",
    "os.environ[\"PATH\"] += os.pathsep + os.getcwd() +'/src'"
   ]
  },
  {
   "cell_type": "markdown",
   "metadata": {},
   "source": [
    "#### Compile"
   ]
  },
  {
   "cell_type": "code",
   "execution_count": 2,
   "metadata": {
    "collapsed": false,
    "scrolled": false
   },
   "outputs": [],
   "source": [
    "%%bash\n",
    "cd src\n",
    "gcc -c -O3 isomut_lib.c fisher.c  -W -Wall\n",
    "gcc -O3 -o isomut isomut.c isomut_lib.o  fisher.o -lm -W -Wall"
   ]
  },
  {
   "cell_type": "markdown",
   "metadata": {},
   "source": [
    "#### Sample run"
   ]
  },
  {
   "cell_type": "code",
   "execution_count": 3,
   "metadata": {
    "collapsed": false,
    "scrolled": false
   },
   "outputs": [
    {
     "name": "stdout",
     "output_type": "stream",
     "text": [
      "#sample_name\tchr\tpos\ttype\tscore\tref\tmut\tcov\tmut_freq\tcleanliness\n",
      "DS103.bam\t1\t21950\tSNV\t1.09\tT\tC\t8\t0.250\t1.000\n",
      "DS057.bam\t1\t54563\tSNV\t5.42\tG\tT\t43\t0.442\t1.000\n",
      "DS057.bam\t1\t54573\tSNV\t4.42\tA\tT\t38\t0.447\t1.000\n",
      "DS102.bam\t1\t161769\tSNV\t11.29\tA\tT\t41\t0.585\t0.981\n",
      "DS052.bam\t1\t232223\tSNV\t1.29\tG\tA\t9\t0.222\t1.000\n",
      "DS053.bam\t1\t315124\tSNV\t3.63\tA\tG\t26\t0.423\t1.000\n",
      "DS101.bam\t1\t345511\tSNV\t0.68\tC\tT\t14\t0.214\t0.938\n",
      "DS051.bam\t1\t427519\tSNV\t0.69\tT\tC\t14\t0.214\t0.941\n"
     ]
    },
    {
     "name": "stderr",
     "output_type": "stream",
     "text": [
      "[mpileup] 12 samples in 12 input files\n",
      "\n",
      "real\t0m14.472s\n",
      "user\t0m19.952s\n",
      "sys\t0m0.484s\n"
     ]
    }
   ],
   "source": [
    "%%bash\n",
    "cd /nagyvinyok/adat86/sotejedlik/ribli/dt40/test_bams/\n",
    "\n",
    "min_sample_freq=0.21\n",
    "min_other_freq=0.93\n",
    "cov_limit=5\n",
    "base_quality_limit=30\n",
    "snv_proximal_gap_filter_distance=10\n",
    "indel_proximal_gap_filter_distance=20\n",
    "\n",
    "time /home/ribli/tools/samtools-1.2/samtools mpileup -d 1000 -B \\\n",
    "-f /home/ribli/input/index/gallus/Gallus_gallus.Galgal4.74.dna.toplevel.fa \\\n",
    "-r 1:0-500,000  *.bam | \\\n",
    "isomut $min_sample_freq $min_other_freq $cov_limit $base_quality_limit \\\n",
    "$snv_proximal_gap_filter_distance $indel_proximal_gap_filter_distance *.bam "
   ]
  }
 ],
 "metadata": {
  "kernelspec": {
   "display_name": "Python 2",
   "language": "python",
   "name": "python2"
  },
  "language_info": {
   "codemirror_mode": {
    "name": "ipython",
    "version": 2
   },
   "file_extension": ".py",
   "mimetype": "text/x-python",
   "name": "python",
   "nbconvert_exporter": "python",
   "pygments_lexer": "ipython2",
   "version": "2.7.11"
  }
 },
 "nbformat": 4,
 "nbformat_minor": 0
}
