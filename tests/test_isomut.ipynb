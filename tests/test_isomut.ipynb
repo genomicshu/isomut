{
 "cells": [
  {
   "cell_type": "markdown",
   "metadata": {},
   "source": [
    "### Test run for IsoMut\n",
    "---"
   ]
  },
  {
   "cell_type": "markdown",
   "metadata": {},
   "source": [
    "#### Compile"
   ]
  },
  {
   "cell_type": "code",
   "execution_count": 1,
   "metadata": {
    "collapsed": false,
    "scrolled": false
   },
   "outputs": [],
   "source": [
    "%%bash\n",
    "gcc -c -O3 isomut_lib.c fisher.c  -W -Wall\n",
    "gcc -O3 -o isomut isomut.c isomut_lib.o  fisher.o -lm -W -Wall"
   ]
  },
  {
   "cell_type": "markdown",
   "metadata": {},
   "source": [
    "#### Sample run"
   ]
  },
  {
   "cell_type": "code",
   "execution_count": 2,
   "metadata": {
    "collapsed": false,
    "scrolled": false
   },
   "outputs": [
    {
     "name": "stdout",
     "output_type": "stream",
     "text": [
      "#sample\tchr\tpos\ttype\tscore\tref\tmut\tdepth\tmut_freq\n",
      "8\t1\t1\tSNV\t0.14\tC\tT\t5\t0.20\n",
      "0\t1\t193\tSNV\t0.55\tT\tC\t29\t0.21\n",
      "1\t1\t223\tSNV\t0.18\tT\tG\t33\t0.21\n",
      "3\t1\t303\tSNV\t0.35\tG\tA\t26\t0.23\n",
      "5\t1\t894\tSNV\t0.43\tT\tC\t15\t0.27\n",
      "7\t1\t1278\tSNV\t0.81\tT\tC\t5\t0.20\n",
      "5\t1\t1565\tSNV\t0.65\tT\tA\t5\t0.20\n",
      "10\t1\t2347\tSNV\t0.10\tC\tT\t13\t0.23\n",
      "10\t1\t3070\tSNV\t0.31\tG\tT\t15\t0.27\n",
      "2\t1\t3379\tSNV\t0.13\tA\tT\t5\t0.20\n",
      "2\t1\t3385\tSNV\t0.30\tA\tC\t5\t0.20\n",
      "6\t1\t3694\tSNV\t0.47\tT\tC\t14\t0.21\n",
      "0\t1\t3711\tSNV\t0.27\tT\tC\t5\t0.20\n",
      "0\t1\t3713\tSNV\t0.12\tT\tC\t5\t0.20\n",
      "9\t1\t3868\tSNV\t0.40\tT\tG\t10\t0.20\n",
      "9\t1\t3897\tSNV\t0.89\tG\tT\t12\t0.42\n",
      "6\t1\t3913\tSNV\t0.41\tG\tA\t7\t0.29\n",
      "2\t1\t3915\tSNV\t0.08\tA\tG\t14\t0.21\n",
      "1\t1\t4021\tSNV\t0.64\tC\tG\t9\t0.33\n",
      "3\t1\t4107\tSNV\t0.60\tA\tG\t10\t0.30\n",
      "5\t1\t4119\tSNV\t1.38\tT\tC\t16\t0.38\n",
      "0\t1\t4227\tSNV\t0.20\tC\tA\t9\t0.22\n",
      "1\t1\t5713\tSNV\t0.07\tA\tG\t22\t0.23\n",
      "6\t1\t5758\tSNV\t0.22\tA\tG\t18\t0.28\n",
      "1\t1\t5760\tSNV\t0.17\tG\tC\t33\t0.21\n",
      "3\t1\t8185\tSNV\t0.78\tC\tA\t5\t0.20\n",
      "4\t1\t8821\tSNV\t0.87\tT\tC\t37\t0.22\n",
      "4\t1\t8824\tSNV\t0.39\tG\tT\t39\t0.21\n",
      "11\t1\t9097\tSNV\t0.35\tA\tC\t43\t0.21\n",
      "9\t1\t9111\tSNV\t0.27\tC\tA\t44\t0.23\n",
      "4\t1\t9671\tINS\t0.37\t-\tgggac\t9\t0.22\n",
      "4\t1\t9690\tSNV\t0.84\tG\tA\t9\t0.22\n",
      "1\t1\t10096\tSNV\t0.68\tC\tA\t5\t0.20\n",
      "11\t1\t10331\tSNV\t0.31\tA\tT\t22\t0.23\n",
      "10\t1\t11769\tSNV\t1.26\tG\tT\t7\t0.29\n",
      "3\t1\t11790\tSNV\t0.27\tA\tG\t5\t0.20\n",
      "10\t1\t11796\tSNV\t0.41\tC\tT\t9\t0.22\n",
      "10\t1\t11830\tSNV\t1.31\tT\tC\t6\t0.33\n",
      "2\t1\t12233\tSNV\t0.78\tT\tG\t5\t0.20\n",
      "5\t1\t12285\tSNV\t0.12\tT\tC\t5\t0.20\n",
      "2\t1\t12309\tSNV\t0.68\tG\tT\t5\t0.20\n",
      "6\t1\t15319\tSNV\t0.81\tG\tC\t5\t0.20\n",
      "8\t1\t15617\tSNV\t0.10\tT\tC\t13\t0.23\n",
      "2\t1\t15687\tSNV\t0.12\tC\tT\t5\t0.20\n",
      "2\t1\t15878\tSNV\t0.90\tA\tT\t5\t0.20\n",
      "10\t1\t15913\tSNV\t0.11\tT\tG\t15\t0.20\n",
      "5\t1\t16133\tINS\t0.10\t-\ttta\t10\t0.20\n",
      "5\t1\t16175\tSNV\t0.51\tA\tG\t8\t0.25\n",
      "5\t1\t16181\tSNV\t0.41\tT\tC\t8\t0.25\n",
      "8\t1\t16306\tDEL\t0.07\tattt\t-\t24\t0.21\n",
      "2\t1\t16354\tSNV\t0.26\tA\tC\t17\t0.24\n",
      "6\t1\t16391\tSNV\t0.16\tG\tA\t17\t0.24\n",
      "9\t1\t17001\tSNV\t0.23\tG\tA\t20\t0.20\n",
      "6\t1\t18353\tSNV\t0.44\tC\tT\t5\t0.40\n",
      "10\t1\t18393\tSNV\t0.08\tC\tA\t13\t0.23\n",
      "3\t1\t18613\tDEL\t0.11\tattt\t-\t5\t0.20\n",
      "4\t1\t21305\tSNV\t0.22\tA\tG\t66\t0.24\n",
      "11\t1\t21950\tSNV\t1.09\tT\tC\t8\t0.25\n",
      "11\t1\t21977\tSNV\t0.30\tG\tA\t5\t0.20\n",
      "5\t1\t24316\tSNV\t0.83\tC\tT\t5\t0.20\n",
      "2\t1\t25321\tSNV\t0.83\tA\tT\t5\t0.20\n",
      "6\t1\t25338\tSNV\t0.12\tA\tG\t5\t0.20\n",
      "1\t1\t25513\tSNV\t0.36\tG\tA\t11\t0.27\n",
      "4\t1\t25532\tSNV\t0.75\tC\tA\t5\t0.20\n",
      "0\t1\t25677\tSNV\t0.41\tT\tG\t9\t0.22\n",
      "7\t1\t25773\tSNV\t0.22\tA\tG\t10\t0.20\n",
      "1\t1\t25836\tSNV\t0.69\tG\tA\t11\t0.27\n",
      "1\t1\t25860\tSNV\t1.13\tT\tC\t18\t0.22\n",
      "1\t1\t25891\tSNV\t0.31\tG\tT\t19\t0.21\n",
      "1\t1\t29246\tSNV\t0.23\tC\tT\t26\t0.23\n",
      "9\t1\t32053\tSNV\t1.02\tG\tA\t5\t0.20\n",
      "11\t1\t32120\tDEL\t0.88\tG\t-\t5\t0.20\n",
      "4\t1\t32149\tSNV\t0.11\tA\tT\t8\t0.25\n",
      "9\t1\t32160\tSNV\t0.68\tC\tT\t5\t0.20\n",
      "9\t1\t32171\tSNV\t0.30\tT\tC\t5\t0.20\n",
      "8\t1\t32287\tSNV\t0.09\tA\tG\t21\t0.24\n",
      "4\t1\t32850\tSNV\t0.81\tC\tA\t5\t0.20\n",
      "4\t1\t32919\tSNV\t0.72\tT\tG\t5\t0.20\n",
      "9\t1\t37002\tSNV\t0.85\tA\tT\t53\t0.21\n",
      "9\t1\t37005\tSNV\t0.91\tA\tG\t40\t0.25\n",
      "7\t1\t37035\tSNV\t0.35\tA\tG\t15\t0.20\n",
      "11\t1\t37342\tSNV\t0.24\tA\tG\t73\t0.21\n",
      "7\t1\t54563\tSNV\t5.42\tG\tT\t43\t0.44\n",
      "7\t1\t54573\tSNV\t4.42\tA\tT\t38\t0.45\n",
      "3\t1\t85864\tSNV\t1.32\tG\tA\t16\t0.44\n",
      "1\t1\t87182\tSNV\t0.85\tG\tT\t10\t0.20\n"
     ]
    },
    {
     "name": "stderr",
     "output_type": "stream",
     "text": [
      "[mpileup] 12 samples in 12 input files\n",
      "<mpileup> Set max per-file depth to 666\n",
      "\n",
      "real\t0m4.142s\n",
      "user\t0m5.004s\n",
      "sys\t0m0.160s\n"
     ]
    }
   ],
   "source": [
    "%%bash\n",
    "min_sample_freq=0.2\n",
    "min_other_freq=0.8\n",
    "cov_limit=5\n",
    "base_quality_limit=30\n",
    "snv_proximal_gap_filter_distance=10\n",
    "indel_proximal_gap_filter_distance=20\n",
    "\n",
    "time /home/ribli/tools/samtools-1.2/samtools mpileup  -B \\\n",
    "-f /home/ribli/input/index/gallus/Gallus_gallus.Galgal4.74.dna.toplevel.fa \\\n",
    "-r 1:0-100,000  \\\n",
    "/nagyvinyok/adat86/sotejedlik/ribli/dt40/test_bams/*.bam \\\n",
    "| \\\n",
    "./isomut $min_sample_freq $min_other_freq $cov_limit $base_quality_limit \\\n",
    "$snv_proximal_gap_filter_distance $indel_proximal_gap_filter_distance"
   ]
  }
 ],
 "metadata": {
  "kernelspec": {
   "display_name": "Python 2",
   "language": "python",
   "name": "python2"
  },
  "language_info": {
   "codemirror_mode": {
    "name": "ipython",
    "version": 2
   },
   "file_extension": ".py",
   "mimetype": "text/x-python",
   "name": "python",
   "nbconvert_exporter": "python",
   "pygments_lexer": "ipython2",
   "version": "2.7.10"
  }
 },
 "nbformat": 4,
 "nbformat_minor": 0
}
