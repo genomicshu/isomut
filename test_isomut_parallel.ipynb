{
 "cells": [
  {
   "cell_type": "markdown",
   "metadata": {},
   "source": [
    "# Running IsoMut in parallel \n",
    "\n",
    "---\n",
    "\n",
    "Test run for the python parallelisaton wrapper for Isomut\n",
    "\n",
    "---\n",
    "\n",
    "#### Necessary things:\n",
    "\n",
    "- samtools, out method relies on it heavily\n",
    "    - http://www.htslib.org/\n",
    "    - only 0.19+ tested\n",
    "\n",
    "\n",
    "- Biopython, as it is used to compute the genomic region used for parallelisation\n",
    "    - http://biopython.org/wiki/Main_Page\n",
    "   \n",
    "    - comes preinstall in Anaconda python\n",
    "    - can be istalled with pip:\n",
    "        pip install biopython \n",
    "    - or from variuos linux package managers:\n",
    "        - see http://biopython.org/wiki/Download\n",
    "\n",
    "- bam files and reference genomes\n",
    "    - test data will be available soon\n",
    "    \n",
    "---\n"
   ]
  },
  {
   "cell_type": "markdown",
   "metadata": {},
   "source": [
    "### First compile C app\n",
    "- later if you want to use it, add path it to system path, or copy the compiled application to where you want to use it"
   ]
  },
  {
   "cell_type": "code",
   "execution_count": 1,
   "metadata": {
    "collapsed": false
   },
   "outputs": [],
   "source": [
    "%%bash \n",
    "gcc -c -O3 isomut_lib.c fisher.c  -W -Wall\n",
    "gcc -O3 -o isomut isomut.c isomut_lib.o  fisher.o -lm -W -Wall"
   ]
  },
  {
   "cell_type": "markdown",
   "metadata": {},
   "source": [
    "### Run Isomut in parallel in the notebook:\n",
    "\n",
    "- Note: The test bams is just from a region, and it only intersects with the first 4 parallelization blocks now, so only they do the work. With full bams this is not the case.\n",
    "- Note threre are more blocks than min_block_no, because of the constraint that blocks do not overlap chromosomes."
   ]
  },
  {
   "cell_type": "code",
   "execution_count": 2,
   "metadata": {
    "collapsed": false
   },
   "outputs": [
    {
     "name": "stdout",
     "output_type": "stream",
     "text": [
      "Defining parallell blocks ...\n",
      "Done\n",
      "\n",
      "blocks to run: 215\n",
      "running: 1 2 3 4 5 6 7 8 9 10 11 12 13 14 15 16 17 18 19 20 21 22 23 24 25 26 27 28 29 30 31 32 33 34 35 36 37 38 39 40 41 42 43 44 45 46 47 48 49 50 51 52 53 54 55 56 57 58 59 60 61 62 63 64 65 66 67 68 69 70 71 72 73 74 75 76 77 78 79 80 81 82 83 84 85 86 87 88 89 90 91 92 93 94 95 96 97 98 99 100 101 102 103 104 105 106 107 108 109 110 111 112 113 114 115 116 117 118 119 120 121 122 123 124 125 126 127 128 129 130 131 132 133 134 135 136 137 138 139 140 141 142 143 144 145 146 147 148 149 150 151 152 153 154 155 156 157 158 159 160 161 162 163 164 165 166 167 168 169 170 171 172 173 174 175 176 177 178 179 180 181 182 183 184 185 186 187 188 189 190 191 192 193 194 195 196 197 198 199 200 201 202 203 204 205 206 207 208 209 210 211 212 213 214 215 \n",
      "Done\n"
     ]
    }
   ],
   "source": [
    "# %load example_script_parallel_isomut.py\n",
    "#!/usr/bin/env python\n",
    "#################################################\n",
    "# importing the wrapper\n",
    "#################################################\n",
    "#add path for isomput_parallel.py if its not here\n",
    "import sys,os\n",
    "sys.path.append(os.getcwd())\n",
    "#load the wrapper function\n",
    "from isomut_wrappers import run_isomut_in_parallel\n",
    "\n",
    "#################################################\n",
    "# defining administrative parameters\n",
    "#################################################\n",
    "#using parameter dictionary, beacause there are awful lot of parameters\n",
    "params=dict()\n",
    "#minimum number of blocks to run\n",
    "# usually there will be 10-20 more blocks\n",
    "params['n_min_block']=200\n",
    "#number of concurrent processes to run\n",
    "params['n_conc_blocks']=4\n",
    "#genome\n",
    "params['ref_fasta']=\"/home/ribli/input/index/gallus/Gallus_gallus.Galgal4.74.dna.toplevel.fa\"\n",
    "#input dir output dir\n",
    "params['input_dir']='/nagyvinyok/adat86/sotejedlik/ribli/dt40/test_bams/'\n",
    "params['output_dir']='parall_test_output/'\n",
    "#the bam files used\n",
    "params['bam_filenames']=['DS014.bam', 'DS051.bam', 'DS052.bam', 'DS053.bam', 'DS054.bam', 'DS055.bam',\n",
    "         'DS056.bam', 'DS057.bam', 'DS058.bam', 'DS101.bam', 'DS102.bam', 'DS103.bam']\n",
    "\n",
    "#################################################\n",
    "# defining mutation calling parameters\n",
    "#    default values here ...\n",
    "#################################################\n",
    "params['min_sample_freq']=0.2\n",
    "params['min_other_ref_freq']=0.8\n",
    "params['cov_limit']=7\n",
    "params['base_quality_limit']=30\n",
    "params['min_gap_dist_snv']=0\n",
    "params['min_gap_dist_indel']=20\n",
    "\n",
    "#################################################\n",
    "# and finally run it\n",
    "#################################################\n",
    "run_isomut_in_parallel(params)"
   ]
  },
  {
   "cell_type": "code",
   "execution_count": 3,
   "metadata": {
    "collapsed": false,
    "scrolled": false
   },
   "outputs": [
    {
     "name": "stdout",
     "output_type": "stream",
     "text": [
      "#sample\tchr\tpos\ttype\tscore\tref\tmut\tdepth\tmut_freq\n",
      "0\t1\t193\tSNV\t0.55\tT\tC\t29\t0.21\n",
      "1\t1\t223\tSNV\t0.18\tT\tG\t33\t0.21\n",
      "3\t1\t303\tSNV\t0.35\tG\tA\t26\t0.23\n",
      "5\t1\t894\tSNV\t0.43\tT\tC\t15\t0.27\n",
      "3\t1\t2044\tSNV\t0.28\tG\tA\t9\t0.22\n",
      "0\t1\t2104\tSNV\t0.57\tC\tT\t13\t0.23\n",
      "10\t1\t2347\tSNV\t0.10\tC\tT\t13\t0.23\n",
      "10\t1\t3070\tSNV\t0.31\tG\tT\t15\t0.27\n",
      "6\t1\t3694\tSNV\t0.47\tT\tC\t14\t0.21\n",
      "9\t1\t3868\tSNV\t0.40\tT\tG\t10\t0.20\n"
     ]
    },
    {
     "name": "stderr",
     "output_type": "stream",
     "text": [
      "grep: write error\n",
      "cat: write error: Broken pipe\n"
     ]
    }
   ],
   "source": [
    "%%bash\n",
    "\n",
    "head -n 1  parall_test_output/1_0_*\n",
    "cat parall_test_output/* | grep  -v \"\\#\" | head"
   ]
  },
  {
   "cell_type": "markdown",
   "metadata": {},
   "source": [
    "### Or if you dont want to use the notebook: Run the sample script"
   ]
  },
  {
   "cell_type": "code",
   "execution_count": 5,
   "metadata": {
    "collapsed": false,
    "scrolled": false
   },
   "outputs": [
    {
     "name": "stdout",
     "output_type": "stream",
     "text": [
      "Defining parallell blocks ...\n",
      "Done\n",
      "\n",
      "blocks to run: 215\n",
      "running: 1 2 3 4 5 6 7 8 9 10 11 12 13 14 15 16 17 18 19 20 21 22 23 24 25 26 27 28 29 30 31 32 33 34 35 36 37 38 39 40 41 42 43 44 45 46 47 48 49 50 51 52 53 54 55 56 57 58 59 60 61 62 63 64 65 66 67 68 69 70 71 72 73 74 75 76 77 78 79 80 81 82 83 84 85 86 87 88 89 90 91 92 93 94 95 96 97 98 99 100 101 102 103 104 105 106 107 108 109 110 111 112 113 114 115 116 117 118 119 120 121 122 123 124 125 126 127 128 129 130 131 132 133 134 135 136 137 138 139 140 141 142 143 144 145 146 147 148 149 150 151 152 153 154 155 156 157 158 159 160 161 162 163 164 165 166 167 168 169 170 171 172 173 174 175 176 177 178 179 180 181 182 183 184 185 186 187 188 189 190 191 192 193 194 195 196 197 198 199 200 201 202 203 204 205 206 207 208 209 210 211 212 213 214 215 \n",
      "Done\n"
     ]
    }
   ],
   "source": [
    "%%bash\n",
    "./example_script_parallel_isomut.py 2>samtools.log"
   ]
  }
 ],
 "metadata": {
  "kernelspec": {
   "display_name": "Python 2",
   "language": "python",
   "name": "python2"
  },
  "language_info": {
   "codemirror_mode": {
    "name": "ipython",
    "version": 2
   },
   "file_extension": ".py",
   "mimetype": "text/x-python",
   "name": "python",
   "nbconvert_exporter": "python",
   "pygments_lexer": "ipython2",
   "version": "2.7.10"
  }
 },
 "nbformat": 4,
 "nbformat_minor": 0
}
