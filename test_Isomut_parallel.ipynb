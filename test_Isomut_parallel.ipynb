{
 "cells": [
  {
   "cell_type": "markdown",
   "metadata": {},
   "source": [
    "# Running Isomut in parallel \n",
    "\n",
    "---\n",
    "\n",
    "Test run for the python parallelisaton wrapper for Isomut\n",
    "\n",
    "---\n",
    "\n",
    "#### Necessary things:\n",
    "\n",
    "- samtools, out method relies on it heavily\n",
    "    - http://www.htslib.org/\n",
    "    - only 0.19+ tested\n",
    "\n",
    "\n",
    "- Biopython, as it is used to compute the genomic region used for parallelisation\n",
    "    - http://biopython.org/wiki/Main_Page\n",
    "   \n",
    "    - comes preinstall in Anaconda python\n",
    "    - can be istalled with pip:\n",
    "        pip install biopython \n",
    "    - or from variuos linux package managers:\n",
    "        - see http://biopython.org/wiki/Download\n",
    "        \n",
    "---\n",
    "\n",
    "#### Or if you dont want to use the notebook:, there is a sample script\n",
    "\n",
    "- isomut_sample_run.py\n",
    "\n",
    "\n",
    "----"
   ]
  },
  {
   "cell_type": "markdown",
   "metadata": {},
   "source": [
    "### First compile C app\n",
    "- later if you want to use it, add path it to system path, or copy the compiled application to where you want to use it"
   ]
  },
  {
   "cell_type": "code",
   "execution_count": 1,
   "metadata": {
    "collapsed": false
   },
   "outputs": [],
   "source": [
    "%%bash \n",
    "#gcc -c -O3 unique_mutation_lib.c fisher.c  -W -Wall\n",
    "#gcc -O3 -o unique_mutation_app unique_mutation_app.c unique_mutation_lib.o  fisher.o -lm -W -Wall"
   ]
  },
  {
   "cell_type": "markdown",
   "metadata": {},
   "source": [
    "### Run Isomut in parallel in the notebook:\n",
    "\n",
    "- Note: The test bams is just from a region, and it only intersects with the first 4 parallelization blocks now, so only they do the work. With full bams this is not the case.\n",
    "- Note threre are more blocks than min_block_no, because of the constraint that blocks do not overlap chromosomes."
   ]
  },
  {
   "cell_type": "code",
   "execution_count": null,
   "metadata": {
    "collapsed": false
   },
   "outputs": [
    {
     "name": "stdout",
     "output_type": "stream",
     "text": [
      "Defining parallell blocks ...\n"
     ]
    }
   ],
   "source": [
    "#add path for isomput_parallel.py if its not here\n",
    "#import sys\n",
    "#sys.path.append('path for isomut_parallel.py')\n",
    "\n",
    "from isomut_parallel import run_isomut_in_parallel\n",
    "\n",
    "#genome\n",
    "ref_fasta=\"/home/ribli/input/index/gallus/Gallus_gallus.Galgal4.74.dna.toplevel.fa\"\n",
    "\n",
    "#input dir output dir\n",
    "input_dir='/nagyvinyok/adat86/sotejedlik/ribli/dt40/test_bams/'\n",
    "output_dir='parall_test_output/'\n",
    "\n",
    "#the bam files used\n",
    "bam_filenames=['DS014.bam', 'DS051.bam', 'DS052.bam', 'DS053.bam', 'DS054.bam', 'DS055.bam',\n",
    "         'DS056.bam', 'DS057.bam', 'DS058.bam', 'DS101.bam', 'DS102.bam', 'DS103.bam']\n",
    "\n",
    "#and run it\n",
    "run_isomut_in_parallel(input_dir,bam_filenames,output_dir,ref_fasta, min_block_no=200,n_conc_blocks=4)"
   ]
  },
  {
   "cell_type": "code",
   "execution_count": null,
   "metadata": {
    "collapsed": false,
    "scrolled": false
   },
   "outputs": [],
   "source": [
    "%%bash\n",
    "\n",
    "cat parall_test_output/1- | head -n 1\n",
    "cat parall_test_output/* | grep  -v \"\\#\" | head"
   ]
  },
  {
   "cell_type": "markdown",
   "metadata": {},
   "source": [
    "### Or if you dont want to use the notebook: Run the sample script"
   ]
  },
  {
   "cell_type": "code",
   "execution_count": null,
   "metadata": {
    "collapsed": false,
    "scrolled": false
   },
   "outputs": [],
   "source": [
    "%%bash\n",
    "chmod u+x isomut_sample_run.py\n",
    "./isomut_sample_run.py"
   ]
  },
  {
   "cell_type": "code",
   "execution_count": null,
   "metadata": {
    "collapsed": true
   },
   "outputs": [],
   "source": []
  }
 ],
 "metadata": {
  "kernelspec": {
   "display_name": "Python 2",
   "language": "python",
   "name": "python2"
  },
  "language_info": {
   "codemirror_mode": {
    "name": "ipython",
    "version": 2
   },
   "file_extension": ".py",
   "mimetype": "text/x-python",
   "name": "python",
   "nbconvert_exporter": "python",
   "pygments_lexer": "ipython2",
   "version": "2.7.10"
  }
 },
 "nbformat": 4,
 "nbformat_minor": 0
}
