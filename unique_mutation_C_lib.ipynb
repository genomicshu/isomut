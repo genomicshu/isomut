{
 "cells": [
  {
   "cell_type": "markdown",
   "metadata": {},
   "source": [
    "### Test run for the unique mutation caller app\n",
    "---"
   ]
  },
  {
   "cell_type": "markdown",
   "metadata": {},
   "source": [
    "#### Compile the library"
   ]
  },
  {
   "cell_type": "code",
   "execution_count": 1,
   "metadata": {
    "collapsed": false
   },
   "outputs": [
    {
     "name": "stderr",
     "output_type": "stream",
     "text": [
      "unique_mutation_lib.c: In function 'call_indel':\n",
      "unique_mutation_lib.c:756:50: warning: unused parameter 'min_other_ref_freq_limit' [-Wunused-parameter]\n",
      "              double sample_mut_freq_limit,double min_other_ref_freq_limit,int cov_limit,\n",
      "                                                  ^\n"
     ]
    }
   ],
   "source": [
    "%%bash\n",
    "gcc -c -O3 unique_mutation_lib.c fisher.c  -W -Wall\n",
    "gcc -O3 -o unique_mutation_app unique_mutation_app.c unique_mutation_lib.o  fisher.o -lm -W -Wall"
   ]
  },
  {
   "cell_type": "markdown",
   "metadata": {},
   "source": [
    "#### Sample run"
   ]
  },
  {
   "cell_type": "code",
   "execution_count": 2,
   "metadata": {
    "collapsed": false,
    "scrolled": false
   },
   "outputs": [
    {
     "name": "stdout",
     "output_type": "stream",
     "text": [
      "#sample\tchr\tpos\ttype\tfisher_p_value\tref\tmut\n",
      "0\t1\t193\tSNV\t3.325569e-01\tT\tC\n",
      "3\t1\t223\tSNV\t5.339579e-01\tT\tG\n",
      "5\t1\t303\tSNV\t5.246952e-01\tG\tA\n",
      "5\t1\t306\tSNV\t1.000000e+00\tT\tC\n",
      "7\t1\t894\tSNV\t7.164251e-01\tT\tC\n",
      "2\t1\t3069\tSNV\t5.304438e-01\tG\tA\n",
      "10\t1\t3897\tSNV\t8.668731e-02\tG\tT\n",
      "10\t1\t3957\tSNV\t2.222222e-01\tT\tG\n",
      "7\t1\t4119\tSNV\t3.884091e-01\tT\tC\n",
      "5\t1\t4694\tSNV\t5.089286e-01\tC\tG\n",
      "2\t1\t10331\tSNV\t6.367492e-01\tA\tT\n",
      "0\t1\t11307\tSNV\t3.498596e-01\tG\tA\n",
      "1\t1\t15617\tSNV\t1.000000e+00\tT\tC\n",
      "4\t1\t16354\tSNV\t6.775184e-01\tA\tC\n",
      "8\t1\t16391\tSNV\t1.000000e+00\tG\tA\n",
      "10\t1\t17001\tSNV\t7.116944e-01\tG\tA\n",
      "11\t1\t18393\tSNV\t1.000000e+00\tC\tA\n",
      "7\t1\t21392\tSNV\t1.000000e+00\tG\tT\n",
      "6\t1\t21765\tSNV\t5.265713e-01\tA\tG\n",
      "3\t1\t25513\tSNV\t6.026832e-01\tG\tA\n",
      "3\t1\t25836\tSNV\t5.864662e-01\tG\tA\n",
      "3\t1\t25860\tSNV\t1.297209e-01\tT\tC\n",
      "3\t1\t25891\tSNV\t6.236029e-01\tG\tT\n",
      "3\t1\t29246\tSNV\t7.107204e-01\tC\tT\n",
      "1\t1\t32287\tSNV\t5.147059e-01\tA\tG\n",
      "2\t1\t36743\tSNV\t1.000000e+00\tA\tG\n",
      "9\t1\t54563\tSNV\t1.379633e-05\tG\tT\n",
      "9\t1\t54573\tSNV\t1.533053e-04\tA\tT\n",
      "3\t1\t87182\tSNV\t2.512315e-01\tG\tT\n",
      "10\t1\t107293\tSNV\t4.438616e-01\tG\tC\n",
      "11\t1\t120044\tSNV\t1.000000e+00\tA\tG\n",
      "0\t1\t120065\tSNV\t5.440429e-01\tA\tG\n",
      "2\t1\t121133\tSNV\t1.000000e+00\tC\tT\n",
      "5\t1\t125593\tSNV\t2.191472e-01\tA\tG\n",
      "0\t1\t130417\tSNV\t5.394737e-01\tG\tA\n",
      "0\t1\t130501\tSNV\t5.304438e-01\tG\tA\n",
      "11\t1\t141935\tSNV\t5.238095e-01\tA\tC\n",
      "11\t1\t161769\tSNV\t5.768787e-12\tA\tT\n",
      "4\t1\t176669\tSNV\t1.034483e-01\tG\tT\n",
      "2\t1\t188247\tSNV\t4.412524e-01\tC\tA\n",
      "11\t1\t190417\tSNV\t7.237932e-01\tT\tC\n",
      "2\t1\t190421\tSNV\t4.876068e-01\tT\tC\n",
      "10\t1\t190724\tSNV\t6.776009e-01\tA\tC\n",
      "10\t1\t190729\tSNV\t4.822774e-01\tG\tC\n",
      "10\t1\t191369\tSNV\t2.800303e-01\tA\tG\n",
      "10\t1\t191890\tSNV\t7.002730e-01\tG\tT\n",
      "11\t1\t192469\tSNV\t2.964928e-01\tA\tG\n",
      "2\t1\t203621\tSNV\t2.207792e-01\tC\tA\n",
      "5\t1\t203734\tSNV\t1.000000e+00\tT\tC\n",
      "3\t1\t203748\tSNV\t5.238095e-01\tA\tG\n",
      "11\t1\t203761\tSNV\t5.939850e-01\tT\tC\n",
      "4\t1\t204036\tSNV\t1.000000e+00\tG\tA\n",
      "10\t1\t207968\tSNV\t2.879059e-01\tC\tT\n",
      "10\t1\t207969\tSNV\t7.022982e-01\tT\tC\n",
      "5\t1\t246883\tSNV\t5.054945e-01\tG\tA\n",
      "11\t1\t248088\tSNV\t5.900621e-01\tC\tT\n",
      "11\t1\t248098\tSNV\t5.900621e-01\tC\tT\n",
      "11\t1\t259407\tSNV\t1.000000e+00\tA\tG\n",
      "2\t1\t263333\tSNV\t5.304438e-01\tG\tA\n",
      "11\t1\t265059\tSNV\t4.853851e-01\tA\tG\n",
      "1\t1\t272179\tINS\t3.619165e-06\t-\ttgtgt\n",
      "11\t1\t274991\tSNV\t1.648607e-01\tC\tT\n",
      "3\t1\t277167\tSNV\t5.864662e-01\tT\tC\n",
      "4\t1\t278029\tSNV\t1.000000e+00\tC\tT\n",
      "5\t1\t315124\tSNV\t4.556737e-04\tA\tG\n",
      "2\t1\t342446\tSNV\t6.539365e-01\tT\tC\n",
      "4\t1\t355551\tSNV\t1.000000e+00\tG\tA\n",
      "5\t1\t355584\tSNV\t5.714286e-01\tG\tA\n",
      "2\t1\t374777\tSNV\t6.378738e-01\tC\tA\n",
      "10\t1\t375398\tSNV\t3.040536e-01\tA\tG\n",
      "10\t1\t375423\tSNV\t5.096659e-01\tA\tT\n",
      "10\t1\t384162\tSNV\t6.347826e-01\tG\tA\n",
      "2\t1\t384163\tSNV\t2.402597e-01\tC\tT\n",
      "10\t1\t384225\tSNV\t6.254181e-01\tC\tT\n",
      "0\t1\t413316\tSNV\t3.150183e-01\tT\tA\n",
      "8\t1\t414867\tSNV\t5.864662e-01\tT\tC\n",
      "8\t1\t414868\tSNV\t1.000000e+00\tT\tC\n",
      "11\t1\t426415\tSNV\t3.498596e-01\tA\tG\n",
      "11\t1\t426440\tSNV\t2.878261e-01\tT\tC\n",
      "11\t1\t464129\tSNV\t5.864662e-01\tG\tA\n",
      "11\t1\t464533\tSNV\t3.558226e-01\tG\tA\n",
      "11\t1\t466993\tSNV\t1.000000e+00\tG\tA\n",
      "5\t1\t467043\tSNV\t1.000000e+00\tC\tT\n",
      "11\t1\t473902\tSNV\t1.966359e-01\tA\tG\n",
      "6\t1\t478128\tSNV\t1.915567e-01\tC\tT\n",
      "6\t1\t479824\tSNV\t6.810299e-01\tA\tC\n",
      "10\t1\t479838\tSNV\t1.000000e+00\tA\tG\n",
      "2\t1\t479954\tSNV\t6.483092e-01\tT\tC\n",
      "11\t1\t480165\tSNV\t6.433537e-01\tG\tA\n",
      "1\t1\t488592\tSNV\t2.981149e-01\tA\tG\n",
      "7\t1\t489134\tSNV\t6.194546e-01\tA\tG\n",
      "7\t1\t489140\tSNV\t1.000000e+00\tT\tA\n",
      "5\t1\t495451\tSNV\t4.419580e-01\tC\tT\n",
      "10\t1\t519877\tSNV\t6.644601e-01\tG\tA\n",
      "4\t1\t527494\tSNV\t5.089286e-01\tC\tT\n",
      "1\t1\t539232\tDEL\t1.000000e+00\tCATAGAATGGTTGGGTTGGAAGAGTCCTCAAAGGCCAAAGACC\t-\n",
      "2\t1\t565174\tSNV\t3.953784e-01\tT\tC\n",
      "0\t1\t569708\tSNV\t5.304438e-01\tG\tC\n",
      "6\t1\t620757\tSNV\t5.238095e-01\tT\tC\n",
      "3\t1\t620842\tSNV\t3.791315e-01\tA\tC\n",
      "6\t1\t623822\tSNV\t1.754789e-01\tA\tG\n",
      "10\t1\t662811\tSNV\t4.736842e-01\tC\tA\n",
      "9\t1\t662827\tSNV\t6.299172e-01\tA\tG\n",
      "9\t1\t662835\tSNV\t6.299172e-01\tG\tA\n",
      "3\t1\t670109\tSNV\t4.794151e-04\tC\tA\n",
      "7\t1\t678279\tSNV\t1.000000e+00\tC\tT\n",
      "7\t1\t678285\tSNV\t1.000000e+00\tT\tA\n",
      "10\t1\t684171\tSNV\t7.754140e-01\tT\tA\n",
      "4\t1\t684357\tSNV\t7.288830e-01\tC\tG\n",
      "10\t1\t700486\tSNV\t1.778656e-01\tT\tA\n",
      "2\t1\t700506\tSNV\t6.105679e-01\tG\tA\n",
      "11\t1\t700612\tSNV\t6.278051e-01\tT\tG\n",
      "11\t1\t738825\tSNV\t1.854175e-05\tA\tT\n",
      "5\t1\t840277\tSNV\t6.347826e-01\tT\tC\n",
      "10\t1\t840279\tSNV\t6.264822e-01\tA\tC\n",
      "10\t1\t840917\tSNV\t3.530729e-01\tG\tA\n",
      "4\t1\t840922\tSNV\t7.640282e-02\tT\tC\n",
      "0\t1\t882256\tSNV\t1.000000e+00\tC\tT\n",
      "3\t1\t883302\tSNV\t1.000000e+00\tG\tT\n",
      "3\t1\t883311\tSNV\t6.299172e-01\tG\tA\n",
      "8\t1\t890623\tSNV\t1.000000e+00\tT\tC\n",
      "9\t1\t895352\tSNV\t5.029522e-01\tT\tC\n",
      "11\t1\t917081\tSNV\t5.864662e-01\tC\tT\n",
      "2\t1\t960276\tSNV\t1.000000e+00\tT\tG\n",
      "11\t1\t975913\tSNV\t4.952395e-01\tG\tA\n",
      "2\t1\t975921\tSNV\t1.000000e+00\tA\tG\n",
      "2\t1\t994302\tSNV\t5.147059e-01\tT\tA\n",
      "4\t1\t999022\tSNV\t3.622584e-01\tG\tA\n"
     ]
    },
    {
     "name": "stderr",
     "output_type": "stream",
     "text": [
      "[mpileup] 12 samples in 12 input files\n",
      "<mpileup> Set max per-file depth to 666\n",
      "\n",
      "real\t0m24.957s\n",
      "user\t0m32.168s\n",
      "sys\t0m0.660s\n"
     ]
    }
   ],
   "source": [
    "%%bash\n",
    "\n",
    "###########################################\n",
    "# set parameters\n",
    "###########################################\n",
    "min_sample_freq=0.2\n",
    "min_other_freq=0.80\n",
    "cov_limit=10\n",
    "base_quality_limit=30\n",
    "indel_proximity_filter_distance=10\n",
    "\n",
    "###########################################\n",
    "# run it\n",
    "###########################################\n",
    "time /home/ribli/tools/samtools-1.2/samtools mpileup  -B -C50 \\\n",
    "-f /home/ribli/input/index/gallus/Gallus_gallus.Galgal4.74.dna.toplevel.fa \\\n",
    "-r  1:0-1,000,000 \\\n",
    "/nagyvinyok/adat86/sotejedlik/ribli/dt40/test_bams/DS014.bam \\\n",
    "/nagyvinyok/adat86/sotejedlik/ribli/dt40/test_bams/DS058.bam \\\n",
    "/nagyvinyok/adat86/sotejedlik/ribli/dt40/test_bams/DS103.bam \\\n",
    "/nagyvinyok/adat86/sotejedlik/ribli/dt40/test_bams/DS051.bam \\\n",
    "/nagyvinyok/adat86/sotejedlik/ribli/dt40/test_bams/DS052.bam \\\n",
    "/nagyvinyok/adat86/sotejedlik/ribli/dt40/test_bams/DS053.bam \\\n",
    "/nagyvinyok/adat86/sotejedlik/ribli/dt40/test_bams/DS054.bam \\\n",
    "/nagyvinyok/adat86/sotejedlik/ribli/dt40/test_bams/DS055.bam \\\n",
    "/nagyvinyok/adat86/sotejedlik/ribli/dt40/test_bams/DS056.bam \\\n",
    "/nagyvinyok/adat86/sotejedlik/ribli/dt40/test_bams/DS057.bam \\\n",
    "/nagyvinyok/adat86/sotejedlik/ribli/dt40/test_bams/DS101.bam \\\n",
    "/nagyvinyok/adat86/sotejedlik/ribli/dt40/test_bams/DS102.bam \\\n",
    "| \\\n",
    "./unique_mutation_app $min_sample_freq $min_other_freq $cov_limit \\\n",
    "$base_quality_limit $indel_proximity_filter_distance \\\n",
    "#> \\\n",
    "#tmp_mut.csv"
   ]
  }
 ],
 "metadata": {
  "kernelspec": {
   "display_name": "Python 2",
   "language": "python",
   "name": "python2"
  },
  "language_info": {
   "codemirror_mode": {
    "name": "ipython",
    "version": 2
   },
   "file_extension": ".py",
   "mimetype": "text/x-python",
   "name": "python",
   "nbconvert_exporter": "python",
   "pygments_lexer": "ipython2",
   "version": "2.7.10"
  }
 },
 "nbformat": 4,
 "nbformat_minor": 0
}
