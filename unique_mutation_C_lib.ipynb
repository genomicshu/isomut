{
 "cells": [
  {
   "cell_type": "markdown",
   "metadata": {},
   "source": [
    "### Test run for the unique mutation caller app\n",
    "---\n",
    "\n",
    "The bottleneck is samtools pileup creation\n",
    "\n",
    "\n",
    "---"
   ]
  },
  {
   "cell_type": "markdown",
   "metadata": {},
   "source": [
    "#### Compile the library"
   ]
  },
  {
   "cell_type": "code",
   "execution_count": 1,
   "metadata": {
    "collapsed": false
   },
   "outputs": [],
   "source": [
    "%%bash\n",
    "gcc -c -O3 -o  unique_mutation_lib unique_mutation_lib.c -W -Wall"
   ]
  },
  {
   "cell_type": "markdown",
   "metadata": {},
   "source": [
    "#### Compile the application"
   ]
  },
  {
   "cell_type": "code",
   "execution_count": 2,
   "metadata": {
    "collapsed": false
   },
   "outputs": [],
   "source": [
    "%%bash\n",
    "gcc -O3 -o unique_mutation_app unique_mutation_app.c unique_mutation_lib -lm -W -Wall"
   ]
  },
  {
   "cell_type": "markdown",
   "metadata": {},
   "source": [
    "#### Sample run"
   ]
  },
  {
   "cell_type": "code",
   "execution_count": 5,
   "metadata": {
    "collapsed": false,
    "scrolled": false
   },
   "outputs": [
    {
     "name": "stdout",
     "output_type": "stream",
     "text": [
      "#sample\tchr\tpos\tref_nuq\tmut\n",
      "5\t1\t40023439\tT\tA\n",
      "5\t1\t40126711\tT\tA\n",
      "6\t1\t40127000\tA\tT\n",
      "6\t1\t40191197\tT\tG\n",
      "4\t1\t40301165\tA\tG\n",
      "6\t1\t40511046\tA\tT\n",
      "5\t1\t40716836\tA\tT\n",
      "6\t1\t40729533\tA\tT\n",
      "7\t1\t40780387\tT\tA\n",
      "7\t1\t40780388\tC\tT\n",
      "4\t1\t40862829\tA\tT\n",
      "5\t1\t40900780\tA\tT\n",
      "5\t1\t40905062\tT\tA\n",
      "4\t1\t40952939\tT\tC\n"
     ]
    },
    {
     "name": "stderr",
     "output_type": "stream",
     "text": [
      "[mpileup] 9 samples in 9 input files\n",
      "<mpileup> Set max per-file depth to 888\n",
      "\n",
      "real\t0m16.036s\n",
      "user\t0m20.964s\n",
      "sys\t0m0.684s\n"
     ]
    }
   ],
   "source": [
    "%%bash\n",
    "min_sample_freq=0.3\n",
    "max_other_freq=0.1\n",
    "cov_limit=10\n",
    "base_quality_limit=30\n",
    "\n",
    "time /home/ribli/tools/samtools-1.2/samtools mpileup  -B \\\n",
    "-f /home/ribli/input/index/gallus/Gallus_gallus.Galgal4.74.dna.toplevel.fa \\\n",
    "-r 1:40000000-41000000  \\\n",
    "/nagyvinyok/adat83/sotejedlik/ribli/dt40/bam_links_2/DS04*.bam  |\\\n",
    "./unique_mutation_app $min_sample_freq $max_other_freq $cov_limit $base_quality_limit"
   ]
  }
 ],
 "metadata": {
  "kernelspec": {
   "display_name": "Python 2",
   "language": "python",
   "name": "python2"
  },
  "language_info": {
   "codemirror_mode": {
    "name": "ipython",
    "version": 2
   },
   "file_extension": ".py",
   "mimetype": "text/x-python",
   "name": "python",
   "nbconvert_exporter": "python",
   "pygments_lexer": "ipython2",
   "version": "2.7.10"
  }
 },
 "nbformat": 4,
 "nbformat_minor": 0
}
